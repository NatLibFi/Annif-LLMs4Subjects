{
 "cells": [
  {
   "cell_type": "markdown",
   "metadata": {},
   "source": [
    "# Convert LLMs4Subjects dataset to Annif fulltext corpus"
   ]
  },
  {
   "cell_type": "code",
   "execution_count": 1,
   "metadata": {},
   "outputs": [],
   "source": [
    "import json\n",
    "import os\n",
    "from glob import glob\n",
    "\n",
    "# Assume the directories are set up to the git directory under the home directory of the user\n",
    "source_base_dir = os.path.expanduser(\"~/git/llms4subjects/shared-task-datasets/TIBKAT/\")\n",
    "destination_base_dir = os.path.expanduser(\"~/git/Annif-LLMs4Subjects/shared-task-datasets/TIBKAT/\")\n",
    "\n",
    "\n",
    "# Loop through all .jsonld files in the source directory\n",
    "source_file_paths = glob(source_base_dir+ \"**/*.jsonld\", recursive=True)\n",
    "for source_file_path in source_file_paths:\n",
    "\n",
    "    # Create the destination directory if it doesn't exist\n",
    "    dest_dir = os.path.dirname(source_file_path.replace(source_base_dir, destination_base_dir))\n",
    "    if not os.path.exists(dest_dir):\n",
    "        os.makedirs(dest_dir)\n",
    "\n",
    "    try:\n",
    "        with open(source_file_path, \"r\") as f:\n",
    "            data = json.load(f)\n",
    "\n",
    "        # Extract subject ids from 'dcterms:subject' field\n",
    "        for field in data[\"@graph\"]:\n",
    "            if \"dcterms:subject\" in field.keys():\n",
    "                if isinstance(field[\"dcterms:subject\"], list):\n",
    "                    subjects = [subj[\"@id\"] for subj in field[\"dcterms:subject\"]]\n",
    "                else:\n",
    "                    subjects = [field[\"dcterms:subject\"][\"@id\"]]\n",
    "            # TODO Complain if no subject ids\n",
    "\n",
    "        # Save the extracted subject ids to a TSV file\n",
    "        tsv_fpath = source_file_path.replace(\".jsonld\", \".tsv\").replace(source_base_dir, destination_base_dir)\n",
    "        with open(tsv_fpath, \"wt\") as f:\n",
    "            for subject in subjects:\n",
    "                print(\"<\" + subject + \">\", file=f)\n",
    "\n",
    "        # Save the title and abstract to a TXT file\n",
    "        txt_fpath = tsv_fpath.replace(\".tsv\", \".txt\")\n",
    "        with open(txt_fpath, \"wt\") as f:\n",
    "            output = field[\"title\"]\n",
    "            abstract = field[\"abstract\"]\n",
    "            if isinstance(abstract, str):\n",
    "                output += \"\\n\" + abstract\n",
    "            else:\n",
    "                for part in abstract:\n",
    "                    output += \"\\n\" + part  # TODO Detect language of abstract\n",
    "            print(output, file=f)\n",
    "    except TypeError as e:\n",
    "        print(f\"Error processing {source_file_path}: {e}\")\n",
    "        print(data)\n",
    "        break\n",
    "    # break\n"
   ]
  },
  {
   "cell_type": "code",
   "execution_count": 7,
   "metadata": {},
   "outputs": [
    {
     "name": "stdout",
     "output_type": "stream",
     "text": [
      "\u001b[01;34m/home/jmminkin/git/Annif-LLMs4Subjects/shared-task-datasets\u001b[00m\n",
      "└── \u001b[01;34mTIBKAT\u001b[00m\n",
      "    ├── \u001b[01;34mall-subjects\u001b[00m\n",
      "    │   └── \u001b[01;34mdata\u001b[00m\n",
      "    │       ├── \u001b[01;34mdev\u001b[00m\n",
      "    │       │   ├── \u001b[01;34mArticle\u001b[00m\n",
      "    │       │   │   ├── \u001b[01;34mde\u001b[00m\n",
      "    │       │   │   └── \u001b[01;34men\u001b[00m\n",
      "    │       │   ├── \u001b[01;34mBook\u001b[00m\n",
      "    │       │   │   ├── \u001b[01;34mde\u001b[00m\n",
      "    │       │   │   └── \u001b[01;34men\u001b[00m\n",
      "    │       │   ├── \u001b[01;34mConference\u001b[00m\n",
      "    │       │   │   ├── \u001b[01;34mde\u001b[00m\n",
      "    │       │   │   └── \u001b[01;34men\u001b[00m\n",
      "    │       │   ├── \u001b[01;34mReport\u001b[00m\n",
      "    │       │   │   ├── \u001b[01;34mde\u001b[00m\n",
      "    │       │   │   └── \u001b[01;34men\u001b[00m\n",
      "    │       │   └── \u001b[01;34mThesis\u001b[00m\n",
      "    │       │       ├── \u001b[01;34mde\u001b[00m\n",
      "    │       │       └── \u001b[01;34men\u001b[00m\n",
      "    │       └── \u001b[01;34mtrain\u001b[00m\n",
      "    │           ├── \u001b[01;34mArticle\u001b[00m\n",
      "    │           │   ├── \u001b[01;34mde\u001b[00m\n",
      "    │           │   └── \u001b[01;34men\u001b[00m\n",
      "    │           ├── \u001b[01;34mBook\u001b[00m\n",
      "    │           │   ├── \u001b[01;34mde\u001b[00m\n",
      "    │           │   └── \u001b[01;34men\u001b[00m\n",
      "    │           ├── \u001b[01;34mConference\u001b[00m\n",
      "    │           │   ├── \u001b[01;34mde\u001b[00m\n",
      "    │           │   └── \u001b[01;34men\u001b[00m\n",
      "    │           ├── \u001b[01;34mReport\u001b[00m\n",
      "    │           │   ├── \u001b[01;34mde\u001b[00m\n",
      "    │           │   └── \u001b[01;34men\u001b[00m\n",
      "    │           └── \u001b[01;34mThesis\u001b[00m\n",
      "    │               ├── \u001b[01;34mde\u001b[00m\n",
      "    │               └── \u001b[01;34men\u001b[00m\n",
      "    └── \u001b[01;34mtib-core-subjects\u001b[00m\n",
      "        └── \u001b[01;34mdata\u001b[00m\n",
      "            ├── \u001b[01;34mdev\u001b[00m\n",
      "            │   ├── \u001b[01;34mArticle\u001b[00m\n",
      "            │   │   ├── \u001b[01;34mde\u001b[00m\n",
      "            │   │   └── \u001b[01;34men\u001b[00m\n",
      "            │   ├── \u001b[01;34mBook\u001b[00m\n",
      "            │   │   ├── \u001b[01;34mde\u001b[00m\n",
      "            │   │   └── \u001b[01;34men\u001b[00m\n",
      "            │   ├── \u001b[01;34mConference\u001b[00m\n",
      "            │   │   ├── \u001b[01;34mde\u001b[00m\n",
      "            │   │   └── \u001b[01;34men\u001b[00m\n",
      "            │   ├── \u001b[01;34mReport\u001b[00m\n",
      "            │   │   ├── \u001b[01;34mde\u001b[00m\n",
      "            │   │   └── \u001b[01;34men\u001b[00m\n",
      "            │   └── \u001b[01;34mThesis\u001b[00m\n",
      "            │       ├── \u001b[01;34mde\u001b[00m\n",
      "            │       └── \u001b[01;34men\u001b[00m\n",
      "            └── \u001b[01;34mtrain\u001b[00m\n",
      "                ├── \u001b[01;34mArticle\u001b[00m\n",
      "                │   ├── \u001b[01;34mde\u001b[00m\n",
      "                │   └── \u001b[01;34men\u001b[00m\n",
      "                ├── \u001b[01;34mBook\u001b[00m\n",
      "                │   ├── \u001b[01;34mde\u001b[00m\n",
      "                │   └── \u001b[01;34men\u001b[00m\n",
      "                ├── \u001b[01;34mConference\u001b[00m\n",
      "                │   ├── \u001b[01;34mde\u001b[00m\n",
      "                │   └── \u001b[01;34men\u001b[00m\n",
      "                ├── \u001b[01;34mReport\u001b[00m\n",
      "                │   ├── \u001b[01;34mde\u001b[00m\n",
      "                │   └── \u001b[01;34men\u001b[00m\n",
      "                └── \u001b[01;34mThesis\u001b[00m\n",
      "                    ├── \u001b[01;34mde\u001b[00m\n",
      "                    └── \u001b[01;34men\u001b[00m\n",
      "\n",
      "69 directories, 0 files\n"
     ]
    }
   ],
   "source": [
    "!tree -L 6 ~/git/Annif-LLMs4Subjects/shared-task-datasets"
   ]
  },
  {
   "cell_type": "markdown",
   "metadata": {},
   "source": [
    "## Check the number of input and output files"
   ]
  },
  {
   "cell_type": "code",
   "execution_count": 15,
   "metadata": {},
   "outputs": [
    {
     "name": "stdout",
     "output_type": "stream",
     "text": [
      "144485\n"
     ]
    }
   ],
   "source": [
    "!find ~/git/llms4subjects/shared-task-datasets/ -type f -name \"*.jsonld\" | wc -l"
   ]
  },
  {
   "cell_type": "code",
   "execution_count": 13,
   "metadata": {},
   "outputs": [
    {
     "name": "stdout",
     "output_type": "stream",
     "text": [
      "144485\n"
     ]
    }
   ],
   "source": [
    "!find ~/git/Annif-LLMs4Subjects/shared-task-datasets/ -type f -name \"*.txt\" | wc -l"
   ]
  },
  {
   "cell_type": "code",
   "execution_count": 14,
   "metadata": {},
   "outputs": [
    {
     "name": "stdout",
     "output_type": "stream",
     "text": [
      "144485\n"
     ]
    }
   ],
   "source": [
    "!find ~/git/Annif-LLMs4Subjects/shared-task-datasets/ -type f -name \"*.tsv\" | wc -l"
   ]
  }
 ],
 "metadata": {
  "kernelspec": {
   "display_name": ".venv",
   "language": "python",
   "name": "python3"
  },
  "language_info": {
   "codemirror_mode": {
    "name": "ipython",
    "version": 3
   },
   "file_extension": ".py",
   "mimetype": "text/x-python",
   "name": "python",
   "nbconvert_exporter": "python",
   "pygments_lexer": "ipython3",
   "version": "3.12.7"
  }
 },
 "nbformat": 4,
 "nbformat_minor": 2
}
