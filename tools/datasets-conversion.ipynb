{
 "cells": [
  {
   "cell_type": "markdown",
   "metadata": {},
   "source": [
    "# Convert LLMs4Subjects dataset to Annif fulltext corpus"
   ]
  },
  {
   "cell_type": "code",
   "execution_count": 1,
   "metadata": {},
   "outputs": [],
   "source": [
    "import json\n",
    "import os\n",
    "from glob import glob\n",
    "\n",
    "# Assume the directories are set up to the git directory under the home directory of the user\n",
    "source_base_dir = os.path.expanduser(\"~/git/llms4subjects/shared-task-datasets/TIBKAT/\")\n",
    "destination_base_dir = os.path.expanduser(\"~/git/Annif-LLMs4Subjects/shared-task-datasets/TIBKAT/\")\n",
    "\n",
    "\n",
    "def clean_and_combine(input):\n",
    "    if isinstance(input, list):\n",
    "        return \" ¤ \".join([\" \".join(i.split()) for i in input])\n",
    "    return input\n",
    "\n",
    "\n",
    "URI_PREFIX = \"https://d-nb.info/gnd/\"\n",
    "def format_uris_field(uris):\n",
    "    return f\" \".join([f\"<{URI_PREFIX}{uri.replace(\"gnd:\", \"\")}>\" for uri in uris])\n",
    "\n",
    "\n",
    "# Get source dirs, i.e. all dirs with .jsonld files in the source base directory\n",
    "source_file_paths = glob(source_base_dir + \"**/*.jsonld\", recursive=True)\n",
    "source_dirs = sorted(set([os.path.dirname(path) for path in source_file_paths]))\n",
    "# print(\"\\n\".join(source_dirs))"
   ]
  },
  {
   "cell_type": "code",
   "execution_count": 2,
   "metadata": {},
   "outputs": [],
   "source": [
    "!find ../shared-task-datasets/TIBKAT/ -name \"*.tsv\" -type f -delete"
   ]
  },
  {
   "cell_type": "code",
   "execution_count": 3,
   "metadata": {},
   "outputs": [
    {
     "name": "stdout",
     "output_type": "stream",
     "text": [
      "Saving data to file <myhome>/git/Annif-LLMs4Subjects/shared-task-datasets/TIBKAT/all-subjects/data/dev/Article/all.tsv\n",
      "Saving data to file <myhome>/git/Annif-LLMs4Subjects/shared-task-datasets/TIBKAT/all-subjects/data/dev/Article/all.tsv\n",
      "Saving data to file <myhome>/git/Annif-LLMs4Subjects/shared-task-datasets/TIBKAT/all-subjects/data/dev/Book/all.tsv\n",
      "Saving data to file <myhome>/git/Annif-LLMs4Subjects/shared-task-datasets/TIBKAT/all-subjects/data/dev/Book/all.tsv\n",
      "Saving data to file <myhome>/git/Annif-LLMs4Subjects/shared-task-datasets/TIBKAT/all-subjects/data/dev/Conference/all.tsv\n",
      "Saving data to file <myhome>/git/Annif-LLMs4Subjects/shared-task-datasets/TIBKAT/all-subjects/data/dev/Conference/all.tsv\n",
      "Saving data to file <myhome>/git/Annif-LLMs4Subjects/shared-task-datasets/TIBKAT/all-subjects/data/dev/Report/all.tsv\n",
      "Saving data to file <myhome>/git/Annif-LLMs4Subjects/shared-task-datasets/TIBKAT/all-subjects/data/dev/Report/all.tsv\n",
      "Saving data to file <myhome>/git/Annif-LLMs4Subjects/shared-task-datasets/TIBKAT/all-subjects/data/dev/Thesis/all.tsv\n",
      "Saving data to file <myhome>/git/Annif-LLMs4Subjects/shared-task-datasets/TIBKAT/all-subjects/data/dev/Thesis/all.tsv\n",
      "Saving data to file <myhome>/git/Annif-LLMs4Subjects/shared-task-datasets/TIBKAT/all-subjects/data/train/Article/all.tsv\n",
      "Saving data to file <myhome>/git/Annif-LLMs4Subjects/shared-task-datasets/TIBKAT/all-subjects/data/train/Article/all.tsv\n",
      "Saving data to file <myhome>/git/Annif-LLMs4Subjects/shared-task-datasets/TIBKAT/all-subjects/data/train/Book/all.tsv\n",
      "Saving data to file <myhome>/git/Annif-LLMs4Subjects/shared-task-datasets/TIBKAT/all-subjects/data/train/Book/all.tsv\n",
      "Saving data to file <myhome>/git/Annif-LLMs4Subjects/shared-task-datasets/TIBKAT/all-subjects/data/train/Conference/all.tsv\n",
      "Saving data to file <myhome>/git/Annif-LLMs4Subjects/shared-task-datasets/TIBKAT/all-subjects/data/train/Conference/all.tsv\n",
      "Saving data to file <myhome>/git/Annif-LLMs4Subjects/shared-task-datasets/TIBKAT/all-subjects/data/train/Report/all.tsv\n",
      "Saving data to file <myhome>/git/Annif-LLMs4Subjects/shared-task-datasets/TIBKAT/all-subjects/data/train/Report/all.tsv\n",
      "Saving data to file <myhome>/git/Annif-LLMs4Subjects/shared-task-datasets/TIBKAT/all-subjects/data/train/Thesis/all.tsv\n",
      "Saving data to file <myhome>/git/Annif-LLMs4Subjects/shared-task-datasets/TIBKAT/all-subjects/data/train/Thesis/all.tsv\n",
      "Saving data to file <myhome>/git/Annif-LLMs4Subjects/shared-task-datasets/TIBKAT/tib-core-subjects/data/dev/Article/all.tsv\n",
      "Saving data to file <myhome>/git/Annif-LLMs4Subjects/shared-task-datasets/TIBKAT/tib-core-subjects/data/dev/Article/all.tsv\n",
      "Saving data to file <myhome>/git/Annif-LLMs4Subjects/shared-task-datasets/TIBKAT/tib-core-subjects/data/dev/Book/all.tsv\n",
      "Saving data to file <myhome>/git/Annif-LLMs4Subjects/shared-task-datasets/TIBKAT/tib-core-subjects/data/dev/Book/all.tsv\n",
      "Saving data to file <myhome>/git/Annif-LLMs4Subjects/shared-task-datasets/TIBKAT/tib-core-subjects/data/dev/Conference/all.tsv\n",
      "Saving data to file <myhome>/git/Annif-LLMs4Subjects/shared-task-datasets/TIBKAT/tib-core-subjects/data/dev/Conference/all.tsv\n",
      "Saving data to file <myhome>/git/Annif-LLMs4Subjects/shared-task-datasets/TIBKAT/tib-core-subjects/data/dev/Report/all.tsv\n",
      "Saving data to file <myhome>/git/Annif-LLMs4Subjects/shared-task-datasets/TIBKAT/tib-core-subjects/data/dev/Report/all.tsv\n",
      "Saving data to file <myhome>/git/Annif-LLMs4Subjects/shared-task-datasets/TIBKAT/tib-core-subjects/data/dev/Thesis/all.tsv\n",
      "Saving data to file <myhome>/git/Annif-LLMs4Subjects/shared-task-datasets/TIBKAT/tib-core-subjects/data/dev/Thesis/all.tsv\n",
      "Saving data to file <myhome>/git/Annif-LLMs4Subjects/shared-task-datasets/TIBKAT/tib-core-subjects/data/train/Article/all.tsv\n",
      "Saving data to file <myhome>/git/Annif-LLMs4Subjects/shared-task-datasets/TIBKAT/tib-core-subjects/data/train/Article/all.tsv\n",
      "Saving data to file <myhome>/git/Annif-LLMs4Subjects/shared-task-datasets/TIBKAT/tib-core-subjects/data/train/Book/all.tsv\n",
      "Saving data to file <myhome>/git/Annif-LLMs4Subjects/shared-task-datasets/TIBKAT/tib-core-subjects/data/train/Book/all.tsv\n",
      "Saving data to file <myhome>/git/Annif-LLMs4Subjects/shared-task-datasets/TIBKAT/tib-core-subjects/data/train/Conference/all.tsv\n",
      "Saving data to file <myhome>/git/Annif-LLMs4Subjects/shared-task-datasets/TIBKAT/tib-core-subjects/data/train/Conference/all.tsv\n",
      "Saving data to file <myhome>/git/Annif-LLMs4Subjects/shared-task-datasets/TIBKAT/tib-core-subjects/data/train/Report/all.tsv\n",
      "Saving data to file <myhome>/git/Annif-LLMs4Subjects/shared-task-datasets/TIBKAT/tib-core-subjects/data/train/Report/all.tsv\n",
      "Saving data to file <myhome>/git/Annif-LLMs4Subjects/shared-task-datasets/TIBKAT/tib-core-subjects/data/train/Thesis/all.tsv\n",
      "Saving data to file <myhome>/git/Annif-LLMs4Subjects/shared-task-datasets/TIBKAT/tib-core-subjects/data/train/Thesis/all.tsv\n"
     ]
    }
   ],
   "source": [
    "# Loop through all sourcedirectories\n",
    "for source_dir in source_dirs:\n",
    "    # print(source_dir)\n",
    "    # Create the destination directory if it doesn't exist\n",
    "    dest_dir = os.path.dirname(source_dir.replace(source_base_dir, destination_base_dir))\n",
    "    if not os.path.exists(dest_dir):\n",
    "        os.makedirs(dest_dir)\n",
    "\n",
    "    # Open the TSV data-sets files for writing\n",
    "    dest_filepath = os.path.join(dest_dir, \"all.tsv\")  # One file for both en and de documents\n",
    "    print(f\"Saving data to file {dest_filepath.replace(os.path.expanduser(\"~\"), \"<myhome>\")}\")\n",
    "    with open(dest_filepath, 'a', encoding='utf-8') as output_file:\n",
    "\n",
    "        source_file_paths = glob(source_dir+ \"*/*.jsonld\")\n",
    "        for source_file_path in source_file_paths:\n",
    "            # print(source_file_path)\n",
    "            try:\n",
    "                with open(source_file_path, \"r\") as f:\n",
    "                    data = json.load(f)[\"@graph\"]\n",
    "\n",
    "                # Extract subject ids from 'dcterms:subject' field\n",
    "                for field in data:\n",
    "                    if \"dcterms:subject\" in field.keys():\n",
    "                        if isinstance(field[\"dcterms:subject\"], list):\n",
    "                            uris = [subj[\"@id\"] for subj in field[\"dcterms:subject\"]]\n",
    "                        else:\n",
    "                            uris = [field[\"dcterms:subject\"][\"@id\"]]\n",
    "                        # TODO Complain if no subject ids\n",
    "                    if \"title\" in field.keys():\n",
    "                        title = clean_and_combine(field[\"title\"])\n",
    "                    if \"abstract\" in field.keys():\n",
    "                        abstract = clean_and_combine(field[\"abstract\"])\n",
    "\n",
    "                text = title + \" ¤ \" + abstract\n",
    "                # TODO Filter by language\n",
    "\n",
    "                output = text + '\\t' + format_uris_field(uris)\n",
    "                print(output, file=output_file)\n",
    "            except TypeError as e:\n",
    "                print(f\"Error processing {source_file_path}: {e}\")\n",
    "                raise\n",
    "\n",
    "    # break  # Stop after the first dir"
   ]
  },
  {
   "cell_type": "code",
   "execution_count": 4,
   "metadata": {},
   "outputs": [
    {
     "name": "stdout",
     "output_type": "stream",
     "text": [
      "\u001b[01;34m../shared-task-datasets/TIBKAT/\u001b[00m\n",
      "├── \u001b[01;34mall-subjects\u001b[00m\n",
      "│   └── \u001b[01;34mdata\u001b[00m\n",
      "│       ├── \u001b[01;34mdev\u001b[00m\n",
      "│       │   ├── \u001b[01;34mArticle\u001b[00m\n",
      "│       │   │   └── all.tsv\n",
      "│       │   ├── \u001b[01;34mBook\u001b[00m\n",
      "│       │   │   └── all.tsv\n",
      "│       │   ├── \u001b[01;34mConference\u001b[00m\n",
      "│       │   │   └── all.tsv\n",
      "│       │   ├── \u001b[01;34mReport\u001b[00m\n",
      "│       │   │   └── all.tsv\n",
      "│       │   └── \u001b[01;34mThesis\u001b[00m\n",
      "│       │       └── all.tsv\n",
      "│       └── \u001b[01;34mtrain\u001b[00m\n",
      "│           ├── \u001b[01;34mArticle\u001b[00m\n",
      "│           │   └── all.tsv\n",
      "│           ├── \u001b[01;34mBook\u001b[00m\n",
      "│           │   └── all.tsv\n",
      "│           ├── \u001b[01;34mConference\u001b[00m\n",
      "│           │   └── all.tsv\n",
      "│           ├── \u001b[01;34mReport\u001b[00m\n",
      "│           │   └── all.tsv\n",
      "│           └── \u001b[01;34mThesis\u001b[00m\n",
      "│               └── all.tsv\n",
      "└── \u001b[01;34mtib-core-subjects\u001b[00m\n",
      "    └── \u001b[01;34mdata\u001b[00m\n",
      "        ├── \u001b[01;34mdev\u001b[00m\n",
      "        │   ├── \u001b[01;34mArticle\u001b[00m\n",
      "        │   │   └── all.tsv\n",
      "        │   ├── \u001b[01;34mBook\u001b[00m\n",
      "        │   │   └── all.tsv\n",
      "        │   ├── \u001b[01;34mConference\u001b[00m\n",
      "        │   │   └── all.tsv\n",
      "        │   ├── \u001b[01;34mReport\u001b[00m\n",
      "        │   │   └── all.tsv\n",
      "        │   └── \u001b[01;34mThesis\u001b[00m\n",
      "        │       └── all.tsv\n",
      "        └── \u001b[01;34mtrain\u001b[00m\n",
      "            ├── \u001b[01;34mArticle\u001b[00m\n",
      "            │   └── all.tsv\n",
      "            ├── \u001b[01;34mBook\u001b[00m\n",
      "            │   └── all.tsv\n",
      "            ├── \u001b[01;34mConference\u001b[00m\n",
      "            │   └── all.tsv\n",
      "            ├── \u001b[01;34mReport\u001b[00m\n",
      "            │   └── all.tsv\n",
      "            └── \u001b[01;34mThesis\u001b[00m\n",
      "                └── all.tsv\n",
      "\n",
      "28 directories, 20 files\n"
     ]
    }
   ],
   "source": [
    "!tree -L 5 ../shared-task-datasets/TIBKAT/"
   ]
  },
  {
   "cell_type": "markdown",
   "metadata": {},
   "source": [
    "## Check the number of input and output files/documents"
   ]
  },
  {
   "cell_type": "code",
   "execution_count": 5,
   "metadata": {},
   "outputs": [
    {
     "name": "stdout",
     "output_type": "stream",
     "text": [
      "144485\n"
     ]
    }
   ],
   "source": [
    "!find ~/git/llms4subjects/shared-task-datasets/TIBKAT/ -type f -name \"*.jsonld\" | wc -l"
   ]
  },
  {
   "cell_type": "code",
   "execution_count": 6,
   "metadata": {},
   "outputs": [
    {
     "name": "stdout",
     "output_type": "stream",
     "text": [
      "   144485 total\n"
     ]
    }
   ],
   "source": [
    "!wc -l ~/git/Annif-LLMs4Subjects/shared-task-datasets/TIBKAT/*/*/*/*/all.tsv | tail -n1"
   ]
  },
  {
   "cell_type": "code",
   "execution_count": null,
   "metadata": {},
   "outputs": [],
   "source": []
  }
 ],
 "metadata": {
  "kernelspec": {
   "display_name": ".venv",
   "language": "python",
   "name": "python3"
  },
  "language_info": {
   "codemirror_mode": {
    "name": "ipython",
    "version": 3
   },
   "file_extension": ".py",
   "mimetype": "text/x-python",
   "name": "python",
   "nbconvert_exporter": "python",
   "pygments_lexer": "ipython3",
   "version": "3.12.7"
  }
 },
 "nbformat": 4,
 "nbformat_minor": 2
}
